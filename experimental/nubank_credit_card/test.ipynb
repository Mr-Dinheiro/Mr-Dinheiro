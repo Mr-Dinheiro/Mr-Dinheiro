{
 "cells": [
  {
   "cell_type": "code",
   "execution_count": 19,
   "metadata": {},
   "outputs": [],
   "source": [
    "import pandas as pd\n",
    "import zoneinfo"
   ]
  },
  {
   "cell_type": "code",
   "execution_count": 20,
   "metadata": {},
   "outputs": [],
   "source": [
    "df = pd.read_csv('/home/valeriaps/PluggyTests/experimental/nubank_credit_card/valeria_2024_01.csv')"
   ]
  },
  {
   "cell_type": "code",
   "execution_count": 22,
   "metadata": {},
   "outputs": [],
   "source": [
    "df['date'] = df['date'].astype(pd.DatetimeTZDtype(tz=zoneinfo.ZoneInfo('Etc/GMT-3')))\n",
    "df['category'] = df['category'].astype(pd.CategoricalDtype())\n",
    "df['title'] = df['title'].astype(pd.StringDtype())\n",
    "df['amount'] = df['amount'].astype(pd.Float64Dtype())"
   ]
  },
  {
   "cell_type": "code",
   "execution_count": 23,
   "metadata": {},
   "outputs": [
    {
     "data": {
      "text/plain": [
       "date        datetime64[ns, Etc/GMT-3]\n",
       "category                     category\n",
       "title                          string\n",
       "amount                        Float64\n",
       "dtype: object"
      ]
     },
     "execution_count": 23,
     "metadata": {},
     "output_type": "execute_result"
    }
   ],
   "source": [
    "df.dtypes"
   ]
  },
  {
   "cell_type": "code",
   "execution_count": 24,
   "metadata": {},
   "outputs": [
    {
     "data": {
      "text/html": [
       "<div>\n",
       "<style scoped>\n",
       "    .dataframe tbody tr th:only-of-type {\n",
       "        vertical-align: middle;\n",
       "    }\n",
       "\n",
       "    .dataframe tbody tr th {\n",
       "        vertical-align: top;\n",
       "    }\n",
       "\n",
       "    .dataframe thead th {\n",
       "        text-align: right;\n",
       "    }\n",
       "</style>\n",
       "<table border=\"1\" class=\"dataframe\">\n",
       "  <thead>\n",
       "    <tr style=\"text-align: right;\">\n",
       "      <th></th>\n",
       "      <th>date</th>\n",
       "      <th>category</th>\n",
       "      <th>title</th>\n",
       "      <th>amount</th>\n",
       "    </tr>\n",
       "  </thead>\n",
       "  <tbody>\n",
       "    <tr>\n",
       "      <th>0</th>\n",
       "      <td>2024-01-05 00:00:00+03:00</td>\n",
       "      <td>transporte</td>\n",
       "      <td>Uber *Uber *Trip</td>\n",
       "      <td>19.95</td>\n",
       "    </tr>\n",
       "    <tr>\n",
       "      <th>1</th>\n",
       "      <td>2024-01-05 00:00:00+03:00</td>\n",
       "      <td>transporte</td>\n",
       "      <td>Uber *Uber *Trip</td>\n",
       "      <td>16.99</td>\n",
       "    </tr>\n",
       "    <tr>\n",
       "      <th>2</th>\n",
       "      <td>2024-01-04 00:00:00+03:00</td>\n",
       "      <td>transporte</td>\n",
       "      <td>Uber *Uber *Trip</td>\n",
       "      <td>15.16</td>\n",
       "    </tr>\n",
       "    <tr>\n",
       "      <th>3</th>\n",
       "      <td>2024-01-04 00:00:00+03:00</td>\n",
       "      <td>transporte</td>\n",
       "      <td>Uber *Uber *Trip</td>\n",
       "      <td>17.95</td>\n",
       "    </tr>\n",
       "    <tr>\n",
       "      <th>4</th>\n",
       "      <td>2024-01-04 00:00:00+03:00</td>\n",
       "      <td>transporte</td>\n",
       "      <td>Uber *Uber *Trip</td>\n",
       "      <td>1.31</td>\n",
       "    </tr>\n",
       "  </tbody>\n",
       "</table>\n",
       "</div>"
      ],
      "text/plain": [
       "                       date    category             title  amount\n",
       "0 2024-01-05 00:00:00+03:00  transporte  Uber *Uber *Trip   19.95\n",
       "1 2024-01-05 00:00:00+03:00  transporte  Uber *Uber *Trip   16.99\n",
       "2 2024-01-04 00:00:00+03:00  transporte  Uber *Uber *Trip   15.16\n",
       "3 2024-01-04 00:00:00+03:00  transporte  Uber *Uber *Trip   17.95\n",
       "4 2024-01-04 00:00:00+03:00  transporte  Uber *Uber *Trip    1.31"
      ]
     },
     "execution_count": 24,
     "metadata": {},
     "output_type": "execute_result"
    }
   ],
   "source": [
    "df.head()"
   ]
  },
  {
   "cell_type": "code",
   "execution_count": 27,
   "metadata": {},
   "outputs": [
    {
     "data": {
      "text/plain": [
       "{'casa',\n",
       " 'chargeback_brazil_due',\n",
       " 'eletrônicos',\n",
       " 'outros',\n",
       " 'payment',\n",
       " 'restaurante',\n",
       " 'saúde',\n",
       " 'serviços',\n",
       " 'transporte'}"
      ]
     },
     "execution_count": 27,
     "metadata": {},
     "output_type": "execute_result"
    }
   ],
   "source": [
    "unique_categories = set(df['category'])\n",
    "unique_categories"
   ]
  },
  {
   "cell_type": "code",
   "execution_count": 35,
   "metadata": {},
   "outputs": [
    {
     "data": {
      "text/plain": [
       "category\n",
       "casa                      798.15\n",
       "chargeback_brazil_due      -36.8\n",
       "eletrônicos               233.78\n",
       "outros                      29.8\n",
       "payment                 -2712.78\n",
       "restaurante               958.47\n",
       "saúde                      350.0\n",
       "serviços                    92.7\n",
       "transporte                173.87\n",
       "Name: amount, dtype: Float64"
      ]
     },
     "execution_count": 35,
     "metadata": {},
     "output_type": "execute_result"
    }
   ],
   "source": [
    "grouped_df = df.groupby('category')['amount'].agg(sum)\n",
    "grouped_df"
   ]
  },
  {
   "cell_type": "code",
   "execution_count": null,
   "metadata": {},
   "outputs": [],
   "source": []
  }
 ],
 "metadata": {
  "kernelspec": {
   "display_name": "Python 3",
   "language": "python",
   "name": "python3"
  },
  "language_info": {
   "codemirror_mode": {
    "name": "ipython",
    "version": 3
   },
   "file_extension": ".py",
   "mimetype": "text/x-python",
   "name": "python",
   "nbconvert_exporter": "python",
   "pygments_lexer": "ipython3",
   "version": "3.11.2"
  }
 },
 "nbformat": 4,
 "nbformat_minor": 2
}
